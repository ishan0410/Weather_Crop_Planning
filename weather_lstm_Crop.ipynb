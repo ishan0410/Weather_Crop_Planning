{
  "cells": [
    {
      "cell_type": "code",
      "execution_count": null,
      "metadata": {
        "id": "TAuPJx4sYB-s"
      },
      "outputs": [],
      "source": [
        "import pandas as pd\n",
        "import numpy as np\n",
        "from sklearn.ensemble import RandomForestClassifier\n",
        "from sklearn.metrics import accuracy_score\n",
        "from sklearn.metrics import mean_squared_error\n",
        "import matplotlib.pyplot as plt\n",
        "from sklearn.metrics import confusion_matrix, classification_report"
      ]
    },
    {
      "cell_type": "code",
      "execution_count": null,
      "metadata": {
        "id": "WoidtjAykD3w"
      },
      "outputs": [],
      "source": [
        "df = pd.read_excel(\"/content/weather data (1) (1).xlsx\")"
      ]
    },
    {
      "cell_type": "code",
      "execution_count": null,
      "metadata": {
        "colab": {
          "base_uri": "https://localhost:8080/"
        },
        "id": "i10aC0s6kRIM",
        "outputId": "7c709e2b-97db-41de-cc04-e498d6dccdd6"
      },
      "outputs": [
        {
          "output_type": "stream",
          "name": "stdout",
          "text": [
            "<class 'pandas.core.frame.DataFrame'>\n",
            "RangeIndex: 7305 entries, 0 to 7304\n",
            "Data columns (total 15 columns):\n",
            " #   Column   Non-Null Count  Dtype         \n",
            "---  ------   --------------  -----         \n",
            " 0   INDEX    7305 non-null   int64         \n",
            " 1   DATE     7305 non-null   datetime64[ns]\n",
            " 2   DT       7305 non-null   int64         \n",
            " 3   MN       7305 non-null   int64         \n",
            " 4   YEAR     7305 non-null   int64         \n",
            " 5   MAXTEMP  7253 non-null   float64       \n",
            " 6   MINTEMP  7252 non-null   float64       \n",
            " 7   MWSP     7254 non-null   float64       \n",
            " 8   RF       7228 non-null   float64       \n",
            " 9   EVP      7228 non-null   float64       \n",
            " 10  ET       7228 non-null   float64       \n",
            " 11  SSH      7228 non-null   float64       \n",
            " 12  RH1      7228 non-null   float64       \n",
            " 13  RH2      7228 non-null   float64       \n",
            " 14  Name     7305 non-null   object        \n",
            "dtypes: datetime64[ns](1), float64(9), int64(4), object(1)\n",
            "memory usage: 856.2+ KB\n"
          ]
        },
        {
          "output_type": "execute_result",
          "data": {
            "text/plain": [
              "INDEX       0\n",
              "DATE        0\n",
              "DT          0\n",
              "MN          0\n",
              "YEAR        0\n",
              "MAXTEMP    52\n",
              "MINTEMP    53\n",
              "MWSP       51\n",
              "RF         77\n",
              "EVP        77\n",
              "ET         77\n",
              "SSH        77\n",
              "RH1        77\n",
              "RH2        77\n",
              "Name        0\n",
              "dtype: int64"
            ]
          },
          "metadata": {},
          "execution_count": 3
        }
      ],
      "source": [
        "df.info()\n",
        "df.isnull().sum()"
      ]
    },
    {
      "cell_type": "markdown",
      "metadata": {
        "id": "q8t0iYN_lLoG"
      },
      "source": [
        "Time-based interpolation: Since your dataset has a time component, you can perform time-based interpolation to estimate missing values for attributes that exhibit a temporal pattern. Utilize the values from neighboring time points to infer the missing values."
      ]
    },
    {
      "cell_type": "code",
      "execution_count": null,
      "metadata": {
        "colab": {
          "base_uri": "https://localhost:8080/"
        },
        "id": "BZDL1NjSknr4",
        "outputId": "8a0fa021-6591-452e-c453-acaa9dc693bd"
      },
      "outputs": [
        {
          "output_type": "stream",
          "name": "stdout",
          "text": [
            "      INDEX       DATE  DT  MN  YEAR  MAXTEMP  MINTEMP  MWSP   RF  EVP   ET  \\\n",
            "0     43118 2002-01-01   1   1  2002     28.7     14.5   9.3  0.0  4.8  1.3   \n",
            "1     43118 2002-01-02   2   1  2002     29.0     13.3  10.6  0.0  5.2  1.6   \n",
            "2     43118 2002-01-03   3   1  2002     28.5     12.0   9.6  0.0  6.0  1.8   \n",
            "3     43118 2002-01-04   4   1  2002     28.0     11.4  13.5  0.0  5.9  1.6   \n",
            "4     43118 2002-01-05   5   1  2002     28.5     15.4  18.9  0.0  6.5  1.5   \n",
            "...     ...        ...  ..  ..   ...      ...      ...   ...  ...  ...  ...   \n",
            "7300  43118 2021-12-27  27  12  2021     31.7     15.2  12.7  0.0  4.4  1.7   \n",
            "7301  43118 2021-12-28  28  12  2021     31.6     16.5  12.7  0.0  4.3  1.7   \n",
            "7302  43118 2021-12-29  29  12  2021     30.9     15.7  12.9  0.0  4.5  1.7   \n",
            "7303  43118 2021-12-30  30  12  2021     30.3     16.8  12.5  0.0  4.1  1.8   \n",
            "7304  43118 2021-12-31  31  12  2021     30.2     15.5  11.8  0.0  4.9  1.8   \n",
            "\n",
            "      SSH   RH1   RH2     Name  \n",
            "0     8.1  60.0  40.0  SORGHUM  \n",
            "1     8.7  82.0  31.0  SORGHUM  \n",
            "2     9.0  70.0  27.0  SORGHUM  \n",
            "3     9.4  58.0  37.0  SORGHUM  \n",
            "4     8.0  69.0  49.0  SORGHUM  \n",
            "...   ...   ...   ...      ...  \n",
            "7300  7.7  80.0  33.0     GRAM  \n",
            "7301  6.1  86.0  40.0     GRAM  \n",
            "7302  5.8  86.0  40.0     GRAM  \n",
            "7303  4.8  84.0  43.0     GRAM  \n",
            "7304  6.6  86.0  40.0     GRAM  \n",
            "\n",
            "[7305 rows x 15 columns]\n"
          ]
        }
      ],
      "source": [
        "# Ensure that the 'DT' column is in datetime format for proper interpolation\n",
        "\n",
        "# Sort the DataFrame by the 'DT' column in ascending order\n",
        "df.sort_values('DATE', inplace=True)\n",
        "\n",
        "# Perform forward fill interpolation\n",
        "df['MAXTEMP'].interpolate(method='ffill', inplace=True)\n",
        "df['MINTEMP'].interpolate(method='ffill', inplace=True)\n",
        "df['MWSP'].interpolate(method='ffill', inplace=True)\n",
        "df['RF'].interpolate(method='ffill', inplace=True)\n",
        "df['EVP'].interpolate(method='ffill', inplace=True)\n",
        "df['ET'].interpolate(method='ffill', inplace=True)\n",
        "df['SSH'].interpolate(method='ffill', inplace=True)\n",
        "df['RH1'].interpolate(method='ffill', inplace=True)\n",
        "df['RH2'].interpolate(method='ffill', inplace=True)\n",
        "\n",
        "# Perform backward fill interpolation\n",
        "df['MAXTEMP'].interpolate(method='bfill', inplace=True)\n",
        "df['MINTEMP'].interpolate(method='bfill', inplace=True)\n",
        "df['MWSP'].interpolate(method='bfill', inplace=True)\n",
        "df['RF'].interpolate(method='bfill', inplace=True)\n",
        "df['EVP'].interpolate(method='bfill', inplace=True)\n",
        "df['ET'].interpolate(method='bfill', inplace=True)\n",
        "df['SSH'].interpolate(method='bfill', inplace=True)\n",
        "df['RH1'].interpolate(method='bfill', inplace=True)\n",
        "df['RH2'].interpolate(method='bfill', inplace=True)\n",
        "\n",
        "# You can also perform a combination of forward and backward fill by using 'pad' and 'backfill' methods\n",
        "\n",
        "# Reset the index if needed\n",
        "df.reset_index(drop=True, inplace=True)\n",
        "\n",
        "# Print the updated DataFrame\n",
        "print(df)"
      ]
    },
    {
      "cell_type": "code",
      "execution_count": null,
      "metadata": {
        "colab": {
          "base_uri": "https://localhost:8080/"
        },
        "id": "A8bgD6GvlOf8",
        "outputId": "7fb6f096-4e70-474e-e6b2-72492ba7cf5c"
      },
      "outputs": [
        {
          "output_type": "execute_result",
          "data": {
            "text/plain": [
              "INDEX      0\n",
              "DATE       0\n",
              "DT         0\n",
              "MN         0\n",
              "YEAR       0\n",
              "MAXTEMP    0\n",
              "MINTEMP    0\n",
              "MWSP       0\n",
              "RF         0\n",
              "EVP        0\n",
              "ET         0\n",
              "SSH        0\n",
              "RH1        0\n",
              "RH2        0\n",
              "Name       0\n",
              "dtype: int64"
            ]
          },
          "metadata": {},
          "execution_count": 5
        }
      ],
      "source": [
        "df.isnull().sum()"
      ]
    },
    {
      "cell_type": "code",
      "execution_count": null,
      "metadata": {
        "id": "VFEoNzz10Ctj"
      },
      "outputs": [],
      "source": [
        "# Drop a column by index\n",
        "df = df.drop(df.columns[0], axis=1)"
      ]
    },
    {
      "cell_type": "code",
      "execution_count": null,
      "metadata": {
        "id": "9EffihQbtiGh"
      },
      "outputs": [],
      "source": [
        "# Convert int64 attributes to float64\n",
        "df['DT'] = df['DT'].astype(float)\n",
        "df['MN'] = df['MN'].astype(float)\n",
        "df['YEAR'] = df['YEAR'].astype(float)"
      ]
    },
    {
      "cell_type": "code",
      "execution_count": null,
      "metadata": {
        "colab": {
          "base_uri": "https://localhost:8080/"
        },
        "id": "jeJ8UaET4Hx7",
        "outputId": "bbec667e-8922-4078-9d46-ee03ccee71ff"
      },
      "outputs": [
        {
          "output_type": "stream",
          "name": "stdout",
          "text": [
            "<class 'pandas.core.frame.DataFrame'>\n",
            "RangeIndex: 7305 entries, 0 to 7304\n",
            "Data columns (total 14 columns):\n",
            " #   Column   Non-Null Count  Dtype         \n",
            "---  ------   --------------  -----         \n",
            " 0   DATE     7305 non-null   datetime64[ns]\n",
            " 1   DT       7305 non-null   float64       \n",
            " 2   MN       7305 non-null   float64       \n",
            " 3   YEAR     7305 non-null   float64       \n",
            " 4   MAXTEMP  7305 non-null   float64       \n",
            " 5   MINTEMP  7305 non-null   float64       \n",
            " 6   MWSP     7305 non-null   float64       \n",
            " 7   RF       7305 non-null   float64       \n",
            " 8   EVP      7305 non-null   float64       \n",
            " 9   ET       7305 non-null   float64       \n",
            " 10  SSH      7305 non-null   float64       \n",
            " 11  RH1      7305 non-null   float64       \n",
            " 12  RH2      7305 non-null   float64       \n",
            " 13  Name     7305 non-null   object        \n",
            "dtypes: datetime64[ns](1), float64(12), object(1)\n",
            "memory usage: 799.1+ KB\n"
          ]
        }
      ],
      "source": [
        "df.info()"
      ]
    },
    {
      "cell_type": "code",
      "execution_count": null,
      "metadata": {
        "colab": {
          "base_uri": "https://localhost:8080/"
        },
        "id": "eU9ATl9QGyjb",
        "outputId": "107b31ff-9695-4a33-d725-c3064fe4deb3"
      },
      "outputs": [
        {
          "output_type": "stream",
          "name": "stdout",
          "text": [
            "<class 'pandas.core.frame.DataFrame'>\n",
            "RangeIndex: 7305 entries, 0 to 7304\n",
            "Data columns (total 11 columns):\n",
            " #   Column  Non-Null Count  Dtype         \n",
            "---  ------  --------------  -----         \n",
            " 0   DATE    7305 non-null   datetime64[ns]\n",
            " 1   DT      7305 non-null   float64       \n",
            " 2   MN      7305 non-null   float64       \n",
            " 3   YEAR    7305 non-null   float64       \n",
            " 4   MWSP    7305 non-null   float64       \n",
            " 5   RF      7305 non-null   float64       \n",
            " 6   EVP     7305 non-null   float64       \n",
            " 7   ET      7305 non-null   float64       \n",
            " 8   Name    7305 non-null   object        \n",
            " 9   TEMP    7305 non-null   float64       \n",
            " 10  RH      7305 non-null   float64       \n",
            "dtypes: datetime64[ns](1), float64(9), object(1)\n",
            "memory usage: 627.9+ KB\n"
          ]
        }
      ],
      "source": [
        "# Adding TEMP and RH columns\n",
        "df['TEMP'] = (df['MAXTEMP'] + df['MINTEMP']) / 2\n",
        "df = df.drop(['MAXTEMP', 'MINTEMP'], axis=1)\n",
        "\n",
        "df['RH'] = (df['RH1'] + df['RH2']) / 2\n",
        "df = df.drop(['RH1', 'RH2'], axis=1)\n",
        "\n",
        "df = df.drop(['SSH'], axis=1)\n",
        "\n",
        "df.info()"
      ]
    },
    {
      "cell_type": "code",
      "execution_count": null,
      "metadata": {
        "colab": {
          "base_uri": "https://localhost:8080/",
          "height": 423
        },
        "id": "TjzHAMzGIfvU",
        "outputId": "4560e848-d71c-498c-f9da-7174300eb19f"
      },
      "outputs": [
        {
          "output_type": "execute_result",
          "data": {
            "text/plain": [
              "           DATE    DT    MN    YEAR  MWSP   RF  EVP   ET     Name   TEMP    RH\n",
              "0    2002-01-01   1.0   1.0  2002.0   9.3  0.0  4.8  1.3  SORGHUM  21.60  50.0\n",
              "1    2002-01-02   2.0   1.0  2002.0  10.6  0.0  5.2  1.6  SORGHUM  21.15  56.5\n",
              "2    2002-01-03   3.0   1.0  2002.0   9.6  0.0  6.0  1.8  SORGHUM  20.25  48.5\n",
              "3    2002-01-04   4.0   1.0  2002.0  13.5  0.0  5.9  1.6  SORGHUM  19.70  47.5\n",
              "4    2002-01-05   5.0   1.0  2002.0  18.9  0.0  6.5  1.5  SORGHUM  21.95  59.0\n",
              "...         ...   ...   ...     ...   ...  ...  ...  ...      ...    ...   ...\n",
              "7300 2021-12-27  27.0  12.0  2021.0  12.7  0.0  4.4  1.7     GRAM  23.45  56.5\n",
              "7301 2021-12-28  28.0  12.0  2021.0  12.7  0.0  4.3  1.7     GRAM  24.05  63.0\n",
              "7302 2021-12-29  29.0  12.0  2021.0  12.9  0.0  4.5  1.7     GRAM  23.30  63.0\n",
              "7303 2021-12-30  30.0  12.0  2021.0  12.5  0.0  4.1  1.8     GRAM  23.55  63.5\n",
              "7304 2021-12-31  31.0  12.0  2021.0  11.8  0.0  4.9  1.8     GRAM  22.85  63.0\n",
              "\n",
              "[7305 rows x 11 columns]"
            ],
            "text/html": [
              "\n",
              "  <div id=\"df-90849a0d-aa91-4734-8769-733a4e731b6d\" class=\"colab-df-container\">\n",
              "    <div>\n",
              "<style scoped>\n",
              "    .dataframe tbody tr th:only-of-type {\n",
              "        vertical-align: middle;\n",
              "    }\n",
              "\n",
              "    .dataframe tbody tr th {\n",
              "        vertical-align: top;\n",
              "    }\n",
              "\n",
              "    .dataframe thead th {\n",
              "        text-align: right;\n",
              "    }\n",
              "</style>\n",
              "<table border=\"1\" class=\"dataframe\">\n",
              "  <thead>\n",
              "    <tr style=\"text-align: right;\">\n",
              "      <th></th>\n",
              "      <th>DATE</th>\n",
              "      <th>DT</th>\n",
              "      <th>MN</th>\n",
              "      <th>YEAR</th>\n",
              "      <th>MWSP</th>\n",
              "      <th>RF</th>\n",
              "      <th>EVP</th>\n",
              "      <th>ET</th>\n",
              "      <th>Name</th>\n",
              "      <th>TEMP</th>\n",
              "      <th>RH</th>\n",
              "    </tr>\n",
              "  </thead>\n",
              "  <tbody>\n",
              "    <tr>\n",
              "      <th>0</th>\n",
              "      <td>2002-01-01</td>\n",
              "      <td>1.0</td>\n",
              "      <td>1.0</td>\n",
              "      <td>2002.0</td>\n",
              "      <td>9.3</td>\n",
              "      <td>0.0</td>\n",
              "      <td>4.8</td>\n",
              "      <td>1.3</td>\n",
              "      <td>SORGHUM</td>\n",
              "      <td>21.60</td>\n",
              "      <td>50.0</td>\n",
              "    </tr>\n",
              "    <tr>\n",
              "      <th>1</th>\n",
              "      <td>2002-01-02</td>\n",
              "      <td>2.0</td>\n",
              "      <td>1.0</td>\n",
              "      <td>2002.0</td>\n",
              "      <td>10.6</td>\n",
              "      <td>0.0</td>\n",
              "      <td>5.2</td>\n",
              "      <td>1.6</td>\n",
              "      <td>SORGHUM</td>\n",
              "      <td>21.15</td>\n",
              "      <td>56.5</td>\n",
              "    </tr>\n",
              "    <tr>\n",
              "      <th>2</th>\n",
              "      <td>2002-01-03</td>\n",
              "      <td>3.0</td>\n",
              "      <td>1.0</td>\n",
              "      <td>2002.0</td>\n",
              "      <td>9.6</td>\n",
              "      <td>0.0</td>\n",
              "      <td>6.0</td>\n",
              "      <td>1.8</td>\n",
              "      <td>SORGHUM</td>\n",
              "      <td>20.25</td>\n",
              "      <td>48.5</td>\n",
              "    </tr>\n",
              "    <tr>\n",
              "      <th>3</th>\n",
              "      <td>2002-01-04</td>\n",
              "      <td>4.0</td>\n",
              "      <td>1.0</td>\n",
              "      <td>2002.0</td>\n",
              "      <td>13.5</td>\n",
              "      <td>0.0</td>\n",
              "      <td>5.9</td>\n",
              "      <td>1.6</td>\n",
              "      <td>SORGHUM</td>\n",
              "      <td>19.70</td>\n",
              "      <td>47.5</td>\n",
              "    </tr>\n",
              "    <tr>\n",
              "      <th>4</th>\n",
              "      <td>2002-01-05</td>\n",
              "      <td>5.0</td>\n",
              "      <td>1.0</td>\n",
              "      <td>2002.0</td>\n",
              "      <td>18.9</td>\n",
              "      <td>0.0</td>\n",
              "      <td>6.5</td>\n",
              "      <td>1.5</td>\n",
              "      <td>SORGHUM</td>\n",
              "      <td>21.95</td>\n",
              "      <td>59.0</td>\n",
              "    </tr>\n",
              "    <tr>\n",
              "      <th>...</th>\n",
              "      <td>...</td>\n",
              "      <td>...</td>\n",
              "      <td>...</td>\n",
              "      <td>...</td>\n",
              "      <td>...</td>\n",
              "      <td>...</td>\n",
              "      <td>...</td>\n",
              "      <td>...</td>\n",
              "      <td>...</td>\n",
              "      <td>...</td>\n",
              "      <td>...</td>\n",
              "    </tr>\n",
              "    <tr>\n",
              "      <th>7300</th>\n",
              "      <td>2021-12-27</td>\n",
              "      <td>27.0</td>\n",
              "      <td>12.0</td>\n",
              "      <td>2021.0</td>\n",
              "      <td>12.7</td>\n",
              "      <td>0.0</td>\n",
              "      <td>4.4</td>\n",
              "      <td>1.7</td>\n",
              "      <td>GRAM</td>\n",
              "      <td>23.45</td>\n",
              "      <td>56.5</td>\n",
              "    </tr>\n",
              "    <tr>\n",
              "      <th>7301</th>\n",
              "      <td>2021-12-28</td>\n",
              "      <td>28.0</td>\n",
              "      <td>12.0</td>\n",
              "      <td>2021.0</td>\n",
              "      <td>12.7</td>\n",
              "      <td>0.0</td>\n",
              "      <td>4.3</td>\n",
              "      <td>1.7</td>\n",
              "      <td>GRAM</td>\n",
              "      <td>24.05</td>\n",
              "      <td>63.0</td>\n",
              "    </tr>\n",
              "    <tr>\n",
              "      <th>7302</th>\n",
              "      <td>2021-12-29</td>\n",
              "      <td>29.0</td>\n",
              "      <td>12.0</td>\n",
              "      <td>2021.0</td>\n",
              "      <td>12.9</td>\n",
              "      <td>0.0</td>\n",
              "      <td>4.5</td>\n",
              "      <td>1.7</td>\n",
              "      <td>GRAM</td>\n",
              "      <td>23.30</td>\n",
              "      <td>63.0</td>\n",
              "    </tr>\n",
              "    <tr>\n",
              "      <th>7303</th>\n",
              "      <td>2021-12-30</td>\n",
              "      <td>30.0</td>\n",
              "      <td>12.0</td>\n",
              "      <td>2021.0</td>\n",
              "      <td>12.5</td>\n",
              "      <td>0.0</td>\n",
              "      <td>4.1</td>\n",
              "      <td>1.8</td>\n",
              "      <td>GRAM</td>\n",
              "      <td>23.55</td>\n",
              "      <td>63.5</td>\n",
              "    </tr>\n",
              "    <tr>\n",
              "      <th>7304</th>\n",
              "      <td>2021-12-31</td>\n",
              "      <td>31.0</td>\n",
              "      <td>12.0</td>\n",
              "      <td>2021.0</td>\n",
              "      <td>11.8</td>\n",
              "      <td>0.0</td>\n",
              "      <td>4.9</td>\n",
              "      <td>1.8</td>\n",
              "      <td>GRAM</td>\n",
              "      <td>22.85</td>\n",
              "      <td>63.0</td>\n",
              "    </tr>\n",
              "  </tbody>\n",
              "</table>\n",
              "<p>7305 rows × 11 columns</p>\n",
              "</div>\n",
              "    <div class=\"colab-df-buttons\">\n",
              "\n",
              "  <div class=\"colab-df-container\">\n",
              "    <button class=\"colab-df-convert\" onclick=\"convertToInteractive('df-90849a0d-aa91-4734-8769-733a4e731b6d')\"\n",
              "            title=\"Convert this dataframe to an interactive table.\"\n",
              "            style=\"display:none;\">\n",
              "\n",
              "  <svg xmlns=\"http://www.w3.org/2000/svg\" height=\"24px\" viewBox=\"0 -960 960 960\">\n",
              "    <path d=\"M120-120v-720h720v720H120Zm60-500h600v-160H180v160Zm220 220h160v-160H400v160Zm0 220h160v-160H400v160ZM180-400h160v-160H180v160Zm440 0h160v-160H620v160ZM180-180h160v-160H180v160Zm440 0h160v-160H620v160Z\"/>\n",
              "  </svg>\n",
              "    </button>\n",
              "\n",
              "  <style>\n",
              "    .colab-df-container {\n",
              "      display:flex;\n",
              "      gap: 12px;\n",
              "    }\n",
              "\n",
              "    .colab-df-convert {\n",
              "      background-color: #E8F0FE;\n",
              "      border: none;\n",
              "      border-radius: 50%;\n",
              "      cursor: pointer;\n",
              "      display: none;\n",
              "      fill: #1967D2;\n",
              "      height: 32px;\n",
              "      padding: 0 0 0 0;\n",
              "      width: 32px;\n",
              "    }\n",
              "\n",
              "    .colab-df-convert:hover {\n",
              "      background-color: #E2EBFA;\n",
              "      box-shadow: 0px 1px 2px rgba(60, 64, 67, 0.3), 0px 1px 3px 1px rgba(60, 64, 67, 0.15);\n",
              "      fill: #174EA6;\n",
              "    }\n",
              "\n",
              "    .colab-df-buttons div {\n",
              "      margin-bottom: 4px;\n",
              "    }\n",
              "\n",
              "    [theme=dark] .colab-df-convert {\n",
              "      background-color: #3B4455;\n",
              "      fill: #D2E3FC;\n",
              "    }\n",
              "\n",
              "    [theme=dark] .colab-df-convert:hover {\n",
              "      background-color: #434B5C;\n",
              "      box-shadow: 0px 1px 3px 1px rgba(0, 0, 0, 0.15);\n",
              "      filter: drop-shadow(0px 1px 2px rgba(0, 0, 0, 0.3));\n",
              "      fill: #FFFFFF;\n",
              "    }\n",
              "  </style>\n",
              "\n",
              "    <script>\n",
              "      const buttonEl =\n",
              "        document.querySelector('#df-90849a0d-aa91-4734-8769-733a4e731b6d button.colab-df-convert');\n",
              "      buttonEl.style.display =\n",
              "        google.colab.kernel.accessAllowed ? 'block' : 'none';\n",
              "\n",
              "      async function convertToInteractive(key) {\n",
              "        const element = document.querySelector('#df-90849a0d-aa91-4734-8769-733a4e731b6d');\n",
              "        const dataTable =\n",
              "          await google.colab.kernel.invokeFunction('convertToInteractive',\n",
              "                                                    [key], {});\n",
              "        if (!dataTable) return;\n",
              "\n",
              "        const docLinkHtml = 'Like what you see? Visit the ' +\n",
              "          '<a target=\"_blank\" href=https://colab.research.google.com/notebooks/data_table.ipynb>data table notebook</a>'\n",
              "          + ' to learn more about interactive tables.';\n",
              "        element.innerHTML = '';\n",
              "        dataTable['output_type'] = 'display_data';\n",
              "        await google.colab.output.renderOutput(dataTable, element);\n",
              "        const docLink = document.createElement('div');\n",
              "        docLink.innerHTML = docLinkHtml;\n",
              "        element.appendChild(docLink);\n",
              "      }\n",
              "    </script>\n",
              "  </div>\n",
              "\n",
              "\n",
              "<div id=\"df-e0e5ac63-16ec-436d-9fe4-bc6587ce9d26\">\n",
              "  <button class=\"colab-df-quickchart\" onclick=\"quickchart('df-e0e5ac63-16ec-436d-9fe4-bc6587ce9d26')\"\n",
              "            title=\"Suggest charts\"\n",
              "            style=\"display:none;\">\n",
              "\n",
              "<svg xmlns=\"http://www.w3.org/2000/svg\" height=\"24px\"viewBox=\"0 0 24 24\"\n",
              "     width=\"24px\">\n",
              "    <g>\n",
              "        <path d=\"M19 3H5c-1.1 0-2 .9-2 2v14c0 1.1.9 2 2 2h14c1.1 0 2-.9 2-2V5c0-1.1-.9-2-2-2zM9 17H7v-7h2v7zm4 0h-2V7h2v10zm4 0h-2v-4h2v4z\"/>\n",
              "    </g>\n",
              "</svg>\n",
              "  </button>\n",
              "\n",
              "<style>\n",
              "  .colab-df-quickchart {\n",
              "      --bg-color: #E8F0FE;\n",
              "      --fill-color: #1967D2;\n",
              "      --hover-bg-color: #E2EBFA;\n",
              "      --hover-fill-color: #174EA6;\n",
              "      --disabled-fill-color: #AAA;\n",
              "      --disabled-bg-color: #DDD;\n",
              "  }\n",
              "\n",
              "  [theme=dark] .colab-df-quickchart {\n",
              "      --bg-color: #3B4455;\n",
              "      --fill-color: #D2E3FC;\n",
              "      --hover-bg-color: #434B5C;\n",
              "      --hover-fill-color: #FFFFFF;\n",
              "      --disabled-bg-color: #3B4455;\n",
              "      --disabled-fill-color: #666;\n",
              "  }\n",
              "\n",
              "  .colab-df-quickchart {\n",
              "    background-color: var(--bg-color);\n",
              "    border: none;\n",
              "    border-radius: 50%;\n",
              "    cursor: pointer;\n",
              "    display: none;\n",
              "    fill: var(--fill-color);\n",
              "    height: 32px;\n",
              "    padding: 0;\n",
              "    width: 32px;\n",
              "  }\n",
              "\n",
              "  .colab-df-quickchart:hover {\n",
              "    background-color: var(--hover-bg-color);\n",
              "    box-shadow: 0 1px 2px rgba(60, 64, 67, 0.3), 0 1px 3px 1px rgba(60, 64, 67, 0.15);\n",
              "    fill: var(--button-hover-fill-color);\n",
              "  }\n",
              "\n",
              "  .colab-df-quickchart-complete:disabled,\n",
              "  .colab-df-quickchart-complete:disabled:hover {\n",
              "    background-color: var(--disabled-bg-color);\n",
              "    fill: var(--disabled-fill-color);\n",
              "    box-shadow: none;\n",
              "  }\n",
              "\n",
              "  .colab-df-spinner {\n",
              "    border: 2px solid var(--fill-color);\n",
              "    border-color: transparent;\n",
              "    border-bottom-color: var(--fill-color);\n",
              "    animation:\n",
              "      spin 1s steps(1) infinite;\n",
              "  }\n",
              "\n",
              "  @keyframes spin {\n",
              "    0% {\n",
              "      border-color: transparent;\n",
              "      border-bottom-color: var(--fill-color);\n",
              "      border-left-color: var(--fill-color);\n",
              "    }\n",
              "    20% {\n",
              "      border-color: transparent;\n",
              "      border-left-color: var(--fill-color);\n",
              "      border-top-color: var(--fill-color);\n",
              "    }\n",
              "    30% {\n",
              "      border-color: transparent;\n",
              "      border-left-color: var(--fill-color);\n",
              "      border-top-color: var(--fill-color);\n",
              "      border-right-color: var(--fill-color);\n",
              "    }\n",
              "    40% {\n",
              "      border-color: transparent;\n",
              "      border-right-color: var(--fill-color);\n",
              "      border-top-color: var(--fill-color);\n",
              "    }\n",
              "    60% {\n",
              "      border-color: transparent;\n",
              "      border-right-color: var(--fill-color);\n",
              "    }\n",
              "    80% {\n",
              "      border-color: transparent;\n",
              "      border-right-color: var(--fill-color);\n",
              "      border-bottom-color: var(--fill-color);\n",
              "    }\n",
              "    90% {\n",
              "      border-color: transparent;\n",
              "      border-bottom-color: var(--fill-color);\n",
              "    }\n",
              "  }\n",
              "</style>\n",
              "\n",
              "  <script>\n",
              "    async function quickchart(key) {\n",
              "      const quickchartButtonEl =\n",
              "        document.querySelector('#' + key + ' button');\n",
              "      quickchartButtonEl.disabled = true;  // To prevent multiple clicks.\n",
              "      quickchartButtonEl.classList.add('colab-df-spinner');\n",
              "      try {\n",
              "        const charts = await google.colab.kernel.invokeFunction(\n",
              "            'suggestCharts', [key], {});\n",
              "      } catch (error) {\n",
              "        console.error('Error during call to suggestCharts:', error);\n",
              "      }\n",
              "      quickchartButtonEl.classList.remove('colab-df-spinner');\n",
              "      quickchartButtonEl.classList.add('colab-df-quickchart-complete');\n",
              "    }\n",
              "    (() => {\n",
              "      let quickchartButtonEl =\n",
              "        document.querySelector('#df-e0e5ac63-16ec-436d-9fe4-bc6587ce9d26 button');\n",
              "      quickchartButtonEl.style.display =\n",
              "        google.colab.kernel.accessAllowed ? 'block' : 'none';\n",
              "    })();\n",
              "  </script>\n",
              "</div>\n",
              "    </div>\n",
              "  </div>\n"
            ]
          },
          "metadata": {},
          "execution_count": 10
        }
      ],
      "source": [
        "df"
      ]
    },
    {
      "cell_type": "code",
      "execution_count": null,
      "metadata": {
        "colab": {
          "base_uri": "https://localhost:8080/"
        },
        "id": "spHpb06mu6TQ",
        "outputId": "1c18b62f-60ad-49d0-f124-4db15a468c38"
      },
      "outputs": [
        {
          "output_type": "stream",
          "name": "stdout",
          "text": [
            "Count of zeros in 'RF' attribute: 5981\n"
          ]
        }
      ],
      "source": [
        "# Assuming 'df' is your DataFrame\n",
        "zero_count = (df['RF'] == 0).sum()\n",
        "print(\"Count of zeros in 'RF' attribute:\", zero_count)\n"
      ]
    },
    {
      "cell_type": "markdown",
      "metadata": {
        "id": "84SN8ZlGDIxN"
      },
      "source": [
        "take mean of maxtemp, mintemp and rh1, rh2 in excel then follow the steps of bookmarked lstm code."
      ]
    },
    {
      "cell_type": "code",
      "execution_count": null,
      "metadata": {
        "id": "9zNDIrRE49Hb"
      },
      "outputs": [],
      "source": [
        "from sklearn.model_selection import train_test_split"
      ]
    },
    {
      "cell_type": "code",
      "source": [
        "weather_data = df"
      ],
      "metadata": {
        "id": "r6pRxBi66fxp"
      },
      "execution_count": null,
      "outputs": []
    },
    {
      "cell_type": "code",
      "source": [
        "from imblearn.over_sampling import SMOTE\n",
        "import pandas as pd\n",
        "\n",
        "# Assuming your weather data is stored in a DataFrame called 'weather_data'\n",
        "# Assuming the feature matrix is stored in 'X' and the target variable is stored in 'y'\n",
        "X = weather_data.drop(['Name'], axis=1)  # Features without the target variable and datetime column\n",
        "y = weather_data['Name']  # Target variable\n",
        "\n",
        "# Split the data into training and validation based on the date\n",
        "train_end_date = pd.to_datetime('2021-03-31')\n",
        "val_start_date = pd.to_datetime('2021-04-01')\n",
        "val_end_date = pd.to_datetime('2021-12-31')\n",
        "\n",
        "X_train = X[X['DATE'] <= train_end_date].drop(['DATE'], axis=1)\n",
        "y_train = y[X['DATE'] <= train_end_date]\n",
        "X_val = X[(X['DATE'] >= val_start_date) & (X['DATE'] <= val_end_date)].drop(['DATE'], axis=1)\n",
        "y_val = y[(X['DATE'] >= val_start_date) & (X['DATE'] <= val_end_date)]\n",
        "\n",
        "# Create an instance of the SMOTE oversampler\n",
        "smote = SMOTE()\n",
        "\n",
        "# Perform SMOTE oversampling on the training data only\n",
        "X_train_oversampled, y_train_oversampled = smote.fit_resample(X_train, y_train)\n",
        "\n",
        "# Create a new DataFrame with the oversampled training data\n",
        "columns = list(X_train.columns)\n",
        "oversampled_data_train = pd.concat([pd.DataFrame(X_train_oversampled, columns=columns), pd.DataFrame(y_train_oversampled, columns=['Name'])], axis=1)\n",
        "\n",
        "# Print the class counts in the oversampled training data\n",
        "print(oversampled_data_train['Name'].value_counts())\n",
        "\n",
        "# Now you can use the oversampled training data (X_train_oversampled, y_train_oversampled)\n",
        "# and the validation data (X_val, y_val) for your model training and evaluation"
      ],
      "metadata": {
        "colab": {
          "base_uri": "https://localhost:8080/"
        },
        "id": "hwWEOUavJVdI",
        "outputId": "079cf031-a399-4576-e24f-9f594cc9eca4"
      },
      "execution_count": null,
      "outputs": [
        {
          "output_type": "stream",
          "name": "stdout",
          "text": [
            "SORGHUM      3730\n",
            "BARE SOIL    3730\n",
            "BLACKGRAM    3730\n",
            "SAFFLOWER    3730\n",
            "GRAM         3730\n",
            "SUNFLOWER    3730\n",
            "Name: Name, dtype: int64\n"
          ]
        }
      ]
    },
    {
      "cell_type": "code",
      "source": [
        "np.unique(y_val)"
      ],
      "metadata": {
        "colab": {
          "base_uri": "https://localhost:8080/"
        },
        "id": "oXFISdmQ9uXC",
        "outputId": "1dc9f11a-6659-4cf7-a45d-0b485021e4d9"
      },
      "execution_count": null,
      "outputs": [
        {
          "output_type": "execute_result",
          "data": {
            "text/plain": [
              "array(['BARE SOIL', 'GRAM', 'SUNFLOWER'], dtype=object)"
            ]
          },
          "metadata": {},
          "execution_count": 15
        }
      ]
    },
    {
      "cell_type": "code",
      "source": [
        "from sklearn.preprocessing import LabelEncoder\n",
        "from sklearn.preprocessing import StandardScaler\n",
        "from sklearn.ensemble import AdaBoostClassifier\n",
        "from sklearn.metrics import accuracy_score\n",
        "\n",
        "# Preprocess the data\n",
        "scaler = StandardScaler()\n",
        "X_train_scaled = scaler.fit_transform(X_train_oversampled)\n",
        "X_val_scaled = scaler.transform(X_val)\n",
        "\n",
        "# Encode the target variable\n",
        "label_encoder = LabelEncoder()\n",
        "y_train_encoded = label_encoder.fit_transform(y_train_oversampled)\n",
        "y_val_encoded = label_encoder.transform(y_val)\n",
        "\n",
        "# Define the base model\n",
        "base_model = RandomForestClassifier()\n",
        "\n",
        "# Create the AdaBoost ensemble model\n",
        "ensemble_model = AdaBoostClassifier(base_estimator=base_model, n_estimators=100)\n",
        "\n",
        "# Train the ensemble model\n",
        "ensemble_model.fit(X_train_scaled, y_train_encoded)\n",
        "\n",
        "# Make predictions on the validation data\n",
        "y_val_pred = ensemble_model.predict(X_val_scaled)\n",
        "\n",
        "# Decode the predicted labels\n",
        "y_val_pred_decoded = label_encoder.inverse_transform(y_val_pred)\n",
        "\n",
        "# Calculate the accuracy\n",
        "validation_accuracy = accuracy_score(y_val, y_val_pred_decoded)\n",
        "print(\"Validation Accuracy:\", validation_accuracy)"
      ],
      "metadata": {
        "colab": {
          "base_uri": "https://localhost:8080/"
        },
        "id": "x8yXuBjrMCaW",
        "outputId": "2684eeeb-fc1d-4d57-ed65-87a5d21fbee8"
      },
      "execution_count": null,
      "outputs": [
        {
          "output_type": "stream",
          "name": "stderr",
          "text": [
            "/usr/local/lib/python3.10/dist-packages/sklearn/ensemble/_base.py:166: FutureWarning: `base_estimator` was renamed to `estimator` in version 1.2 and will be removed in 1.4.\n",
            "  warnings.warn(\n"
          ]
        },
        {
          "output_type": "stream",
          "name": "stdout",
          "text": [
            "Validation Accuracy: 0.9272727272727272\n"
          ]
        }
      ]
    },
    {
      "cell_type": "code",
      "source": [
        "import numpy as np\n",
        "from sklearn.metrics import classification_report\n",
        "\n",
        "# Assuming you have your target variable stored in a variable called 'y_val'\n",
        "classes = np.unique(y_val)\n",
        "print(classes)\n",
        "# Create the confusion matrix\n",
        "cm = confusion_matrix(y_val, y_val_pred_decoded)\n",
        "\n",
        "# Create the classification report\n",
        "report = classification_report(y_val, y_val_pred_decoded, target_names=classes)\n",
        "\n",
        "# Plot the confusion matrix\n",
        "plt.figure(figsize=(8, 6))\n",
        "plt.imshow(cm, interpolation='nearest', cmap=plt.cm.Blues)\n",
        "plt.title('Confusion Matrix')\n",
        "plt.colorbar()\n",
        "tick_marks = np.arange(len(classes))\n",
        "plt.xticks(tick_marks, classes, rotation=45)\n",
        "plt.yticks(tick_marks, classes)\n",
        "thresh = cm.max() / 2.0\n",
        "for i in range(cm.shape[0]):\n",
        "    for j in range(cm.shape[1]):\n",
        "        plt.text(j, i, format(cm[i, j], 'd'),\n",
        "                 horizontalalignment=\"center\",\n",
        "                 color=\"white\" if cm[i, j] > thresh else \"black\")\n",
        "plt.xlabel('Predicted Label')\n",
        "plt.ylabel('True Label')\n",
        "plt.tight_layout()\n",
        "plt.savefig('confusion_matrix.png')\n",
        "plt.show()\n",
        "\n",
        "# Print the classification report\n",
        "print(report)"
      ],
      "metadata": {
        "colab": {
          "base_uri": "https://localhost:8080/",
          "height": 798
        },
        "id": "tRaDOcdiM0AL",
        "outputId": "71153b61-c007-4061-f88f-4570babb6ae0"
      },
      "execution_count": null,
      "outputs": [
        {
          "output_type": "stream",
          "name": "stdout",
          "text": [
            "['BARE SOIL' 'GRAM' 'SUNFLOWER']\n"
          ]
        },
        {
          "output_type": "display_data",
          "data": {
            "text/plain": [
              "<Figure size 800x600 with 2 Axes>"
            ],
            "image/png": "[encoded data removed]"
          },
          "metadata": {}
        },
        {
          "output_type": "stream",
          "name": "stdout",
          "text": [
            "              precision    recall  f1-score   support\n",
            "\n",
            "   BARE SOIL       0.88      1.00      0.93        92\n",
            "        GRAM       1.00      0.83      0.91        81\n",
            "   SUNFLOWER       0.93      0.94      0.94       102\n",
            "\n",
            "    accuracy                           0.93       275\n",
            "   macro avg       0.94      0.92      0.93       275\n",
            "weighted avg       0.93      0.93      0.93       275\n",
            "\n"
          ]
        }
      ]
    }
  ],
  "metadata": {
    "colab": {
      "provenance": []
    },
    "kernelspec": {
      "display_name": "Python 3",
      "name": "python3"
    },
    "language_info": {
      "name": "python"
    }
  },
  "nbformat": 4,
  "nbformat_minor": 0
}